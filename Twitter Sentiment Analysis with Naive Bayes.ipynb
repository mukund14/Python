{
 "cells": [
  {
   "cell_type": "markdown",
   "metadata": {},
   "source": [
    "# Twitter Sentiment Analysis "
   ]
  },
  {
   "cell_type": "markdown",
   "metadata": {},
   "source": [
    "Here, we apply Sentiment Analysis to Tweets. The Data will be collected from Twitter pages of the non-profit organizations and will be stored in a list. Let's use the natural language processing toolkit. It is very useful in language processing or text analytics. "
   ]
  },
  {
   "cell_type": "code",
   "execution_count": 1,
   "metadata": {
    "collapsed": true
   },
   "outputs": [],
   "source": [
    "from nltk.classify import NaiveBayesClassifier"
   ]
  },
  {
   "cell_type": "markdown",
   "metadata": {},
   "source": [
    "Since we want to classify a text into sentiments, the Naive Bayes Classifier will be used. The reasons for choosing this being:\n",
    "- Classifier takes less time to build and compute\n",
    "- Has efficient performance with multi-class classification.\n",
    "- Does not need a lot of training data\n",
    "- Less likely to overfit with smaller sample size\n",
    "- Works best with independent attributes  but has no problem with non-independent attributes."
   ]
  },
  {
   "cell_type": "markdown",
   "metadata": {},
   "source": [
    "# Importing other relevant libraries from NLTK. "
   ]
  },
  {
   "cell_type": "code",
   "execution_count": 2,
   "metadata": {
    "collapsed": false
   },
   "outputs": [],
   "source": [
    "from nltk.corpus import subjectivity #From the NLTK corpus we will import subjectivity to classify a tweet as subjective/objective.\n",
    "from nltk.sentiment import SentimentAnalyzer #SentimentAnalyzer Library to perform the library\n",
    "from nltk.sentiment.util import *\n",
    "from nltk.sentiment.vader import SentimentIntensityAnalyzer #Sentiment and Intensity Analyzer will perform our required analysis"
   ]
  },
  {
   "cell_type": "markdown",
   "metadata": {},
   "source": [
    "# Preparing & Exploring the Data\n",
    "\n",
    "The NLTK corpus has 10,000 instances. So, we will split it into two, one with subjective instances and other with objective instances. (subj_docs, obj_docs)"
   ]
  },
  {
   "cell_type": "code",
   "execution_count": 3,
   "metadata": {
    "collapsed": false
   },
   "outputs": [
    {
     "data": {
      "text/plain": [
       "(5000, 5000)"
      ]
     },
     "execution_count": 3,
     "metadata": {},
     "output_type": "execute_result"
    }
   ],
   "source": [
    "n_instances = 10000\n",
    "subj_docs = [(sent, 'subj') for sent in subjectivity.sents(categories='subj')[:n_instances]]\n",
    "obj_docs = [(sent, 'obj') for sent in subjectivity.sents(categories='obj')[:n_instances]]\n",
    "len(subj_docs), len(obj_docs)\n"
   ]
  },
  {
   "cell_type": "markdown",
   "metadata": {},
   "source": [
    "Let's explore the above created tuples (subj_docs, obj_docs) individually"
   ]
  },
  {
   "cell_type": "code",
   "execution_count": 4,
   "metadata": {
    "collapsed": false
   },
   "outputs": [
    {
     "data": {
      "text/plain": [
       "([u'emerging',\n",
       "  u'from',\n",
       "  u'the',\n",
       "  u'human',\n",
       "  u'psyche',\n",
       "  u'and',\n",
       "  u'showing',\n",
       "  u'characteristics',\n",
       "  u'of',\n",
       "  u'abstract',\n",
       "  u'expressionism',\n",
       "  u',',\n",
       "  u'minimalism',\n",
       "  u'and',\n",
       "  u'russian',\n",
       "  u'constructivism',\n",
       "  u',',\n",
       "  u'graffiti',\n",
       "  u'removal',\n",
       "  u'has',\n",
       "  u'secured',\n",
       "  u'its',\n",
       "  u'place',\n",
       "  u'in',\n",
       "  u'the',\n",
       "  u'history',\n",
       "  u'of',\n",
       "  u'modern',\n",
       "  u'art',\n",
       "  u'while',\n",
       "  u'being',\n",
       "  u'created',\n",
       "  u'by',\n",
       "  u'artists',\n",
       "  u'who',\n",
       "  u'are',\n",
       "  u'unconscious',\n",
       "  u'of',\n",
       "  u'their',\n",
       "  u'artistic',\n",
       "  u'achievements',\n",
       "  u'.'],\n",
       " 'obj')"
      ]
     },
     "execution_count": 4,
     "metadata": {},
     "output_type": "execute_result"
    }
   ],
   "source": [
    "obj_docs[1] #This will show that the element is an objective sentence"
   ]
  },
  {
   "cell_type": "code",
   "execution_count": 5,
   "metadata": {
    "collapsed": false
   },
   "outputs": [
    {
     "data": {
      "text/plain": [
       "([u'color',\n",
       "  u',',\n",
       "  u'musical',\n",
       "  u'bounce',\n",
       "  u'and',\n",
       "  u'warm',\n",
       "  u'seas',\n",
       "  u'lapping',\n",
       "  u'on',\n",
       "  u'island',\n",
       "  u'shores',\n",
       "  u'.',\n",
       "  u'and',\n",
       "  u'just',\n",
       "  u'enough',\n",
       "  u'science',\n",
       "  u'to',\n",
       "  u'send',\n",
       "  u'you',\n",
       "  u'home',\n",
       "  u'thinking',\n",
       "  u'.'],\n",
       " 'subj')"
      ]
     },
     "execution_count": 5,
     "metadata": {},
     "output_type": "execute_result"
    }
   ],
   "source": [
    "subj_docs[1] #Exploring the contents of an element of the subj_docs list\n",
    "#This will show it is a subjective sentence"
   ]
  },
  {
   "cell_type": "markdown",
   "metadata": {},
   "source": [
    "# Data Modeling\n",
    "\n",
    "We will build a training and testing model for the subjective and objective documents.Standard train and test split is 80:20. We will first build a training and test tuple and at a later stage apply Sentiment Analyzer method to it during the stage when we build the model."
   ]
  },
  {
   "cell_type": "code",
   "execution_count": 51,
   "metadata": {
    "collapsed": false
   },
   "outputs": [],
   "source": [
    "train_subj_docs = subj_docs[:160] \n",
    "test_subj_docs = subj_docs[160:200] \n",
    "train_obj_docs = obj_docs[:160]\n",
    "test_obj_docs = obj_docs[160:200]\n",
    "training_docs = train_subj_docs+train_obj_docs\n",
    "testing_docs = test_subj_docs+test_obj_docs"
   ]
  },
  {
   "cell_type": "markdown",
   "metadata": {},
   "source": [
    "Now, we will store Sentiment Analyzer method in a variable which we use for all future purposes for calling as required"
   ]
  },
  {
   "cell_type": "code",
   "execution_count": 52,
   "metadata": {
    "collapsed": false
   },
   "outputs": [],
   "source": [
    "sentim_analyzer = SentimentAnalyzer()"
   ]
  },
  {
   "cell_type": "markdown",
   "metadata": {},
   "source": [
    "We will clean this data to get rid of all negative words. Since Naive Bayes works well with independent features, we treat every word as a feature and naive bayes will analyze it separately. With the mark_negation method, we will enable the sentiment_analyzer to append _NEG suffix to words that appear in the scope between a negation in a sentence and a punctuation mark."
   ]
  },
  {
   "cell_type": "code",
   "execution_count": 112,
   "metadata": {
    "collapsed": false
   },
   "outputs": [
    {
     "data": {
      "text/plain": [
       "160"
      ]
     },
     "execution_count": 112,
     "metadata": {},
     "output_type": "execute_result"
    }
   ],
   "source": [
    "all_words_neg = sentim_analyzer.all_words([mark_negation(doc,shallow=True) for doc in training_docs]) \n",
    "#all_words returns all words in documents including duplicates.\n",
    "\n",
    "unigram_feats = sentim_analyzer.unigram_word_feats(all_words_neg, top_n=160, min_freq=4) \n",
    "# We will analyze the sentiment of top 160 words which occur frequently and independently with unigram_word_feats method.\n",
    "\n",
    "len(unigram_feats)"
   ]
  },
  {
   "cell_type": "code",
   "execution_count": 113,
   "metadata": {
    "collapsed": true
   },
   "outputs": [],
   "source": [
    "sentim_analyzer.add_feat_extractor(extract_unigram_feats, unigrams=unigram_feats) \n",
    "#We want to extract the features of each unigram and apply sentiment analysis to it."
   ]
  },
  {
   "cell_type": "markdown",
   "metadata": {},
   "source": [
    "# Building the Naive Bayes Classifier on the trained model\n",
    "\n",
    "With the train and test data prepared, we can now start building our model. We will apply the sentiment analysis function to each of these tuples. Since, we want to apply Naive Bayes prediction technique to the training model, we will initialize another variable which will be trained in Naive Bayes. Then the classifier will be built."
   ]
  },
  {
   "cell_type": "code",
   "execution_count": 114,
   "metadata": {
    "collapsed": false
   },
   "outputs": [
    {
     "name": "stdout",
     "output_type": "stream",
     "text": [
      "Training classifier\n"
     ]
    }
   ],
   "source": [
    "training_set = sentim_analyzer.apply_features(training_docs)\n",
    "trainer = NaiveBayesClassifier.train\n",
    "classifier = sentim_analyzer.train(trainer, training_set)"
   ]
  },
  {
   "cell_type": "markdown",
   "metadata": {},
   "source": [
    "Before we test Naive Bayes on our test dataset, we would have to first prepare the test data, in the form like the training data, i.e. with the features of the Sentiment Analyzer applied to it."
   ]
  },
  {
   "cell_type": "code",
   "execution_count": 115,
   "metadata": {
    "collapsed": false
   },
   "outputs": [
    {
     "name": "stdout",
     "output_type": "stream",
     "text": [
      "0.7875\n"
     ]
    }
   ],
   "source": [
    "test_set = sentim_analyzer.apply_features(testing_docs)\n",
    "print (nltk.classify.accuracy(classifier,test_set)) #Testing the accuracy of this model"
   ]
  },
  {
   "cell_type": "markdown",
   "metadata": {},
   "source": [
    "Let's study this accuracy in detail by evaluating how the Naive Bayes Classifier performed by looking at its Precision,Accuracy and F-measure"
   ]
  },
  {
   "cell_type": "code",
   "execution_count": 116,
   "metadata": {
    "collapsed": false
   },
   "outputs": [
    {
     "name": "stdout",
     "output_type": "stream",
     "text": [
      "Evaluating NaiveBayesClassifier results...\n",
      "Accuracy: 0.7875\n",
      "F-measure [obj]: 0.784810126582\n",
      "F-measure [subj]: 0.79012345679\n",
      "Precision [obj]: 0.794871794872\n",
      "Precision [subj]: 0.780487804878\n",
      "Recall [obj]: 0.775\n",
      "Recall [subj]: 0.8\n"
     ]
    }
   ],
   "source": [
    "for key,value in sorted(sentim_analyzer.evaluate(test_set).items()):\n",
    "        print('{0}: {1}'.format(key, value))\n",
    "        "
   ]
  },
  {
   "cell_type": "markdown",
   "metadata": {
    "collapsed": false
   },
   "source": [
    "# Preparing New Test Data\n",
    "\n",
    "We have seen how our model has been performing on test data. We will now test it on newer test data, which isn't available on the corpus and has been taken from the Twitter Page of the Non-Profit Organization. We first initialize a list which will contain a list of these tweets as given below."
   ]
  },
  {
   "cell_type": "code",
   "execution_count": 117,
   "metadata": {
    "collapsed": false
   },
   "outputs": [],
   "source": [
    "sentences = [\n",
    "    \n",
    "    \"disgusting\",\n",
    "    \"Abilities United thanks its all their help and support . \",\n",
    "    \"Abilities\",\n",
    "    \"United\",\n",
    "    \"thanks\",\n",
    "    \"its\",\n",
    "    \"volunteers\",\n",
    "    \"for\",\n",
    "    \"all\",\n",
    "    \"their\",\n",
    "    \"help\",\n",
    "    \"and\",\n",
    "    \"support\"\n",
    "    \n",
    "]\n"
   ]
  },
  {
   "cell_type": "code",
   "execution_count": 118,
   "metadata": {
    "collapsed": true
   },
   "outputs": [],
   "source": [
    "tricky_sentences = [\n",
    "   \"Abilities United's garden volunteer, Linda, is included in this anniversary story about Gamble Gardens in Palo Alto. http://buff.ly/2d26cTj \",\n",
    "    \"Abilities United Aquathon results story is highlighted in this issue of #FamilyHopeFoundationDaily The latest Family Hope Foundation Daily! http://paper.li/family_hope/1359469412?edition_id=143195b0-8313-11e6-a3e8-0cc47a0d15fd … Thanks to @SpOlympicsMI @phpeducation @AbilitiesUnited\",\n",
    "    \"#PaloAltoPlayers The Little Mermaid benefits Abilities United.  View our 'Under the Sea' art exhibit in the lobby! http://buff.ly/2cGiPY7 \",\n",
    "    \"You still have through Sept. 30 to raise #Aquathon donations for services for children & adults with #disabilities!  http://buff.ly/2d8JEmf \",\n",
    "    \"Check out fun photos of #Aquathon teams &  #SJSharkie! Find your team, your friends & family.  Make a donation too! http://buff.ly/2ddTItH \",\n",
    "    \"Did you attend Fiesta Educativa? “It’s important because there are many parents who don’t know what to do...”San Jose: Latino families with special needs kids find support at annual conference\",\n",
    "\"A HUGE #ThankYou to @PurpleMusem for hosting Milestones Preschool last week! The children loved seeing some of thei…\",\n",
    "    \"Many THANKS to @PurpleMuseum for hosting our students last week! Milestones Preschool loved the People exhibit and spending time there!\",\n",
    "    \"Congrats to Team Priya's Rhymers, winner of the #Aquathon Spirit Award. Celebrate and help reach our $85,000 goal! http://buff.ly/2dtUh1D \",\n",
    "    \"Curious about #Aquathon results to date? Award winners, special guests, & $70+K in donations toward our $85K goal. http://buff.ly/2cWU216 \",\n",
    "    \"Thank you #Aquathon swimmers, donors!  You're at $70K ! Reach $85K goal by 9/30 to benefit people with disabilities! http://buff.ly/2ddRrlq \",\n",
    "    \"Thanks to swimmers, cheerleaders, donors of the #Aquathon!  You've raised nearly $70K for services for people with #disabilities! #SJSharkie\",\n",
    "    \"Get your tixs for Abilities United #AuthorsLuncheon.  Meet 4 renowned authors & benefit people with disabilities! http://buff.ly/2d4ESs6 \",\n",
    "    \"Today was the opening of the exhibition 'Transformations: Creativity from the Inside Out' at the #WaltDisneyFamilyM…\",\n",
    "    \"#Aquathon fundraising thermometer is raising!   See you all 'in the swim' tomorrow! http://buff.ly/2cts5uG \",\n",
    "    \"Aquathon swimmers/attendees!  Everything you need to know for Sat. Sept. 17 is the website! http://buff.ly/2cYnk1l \",\n",
    "    \"9/15: early registration price ends: #AuthorsLuncheon! Meet #MarkKurlansky, #FrancineProse, #DanSantat, #MariaSemple http://buff.ly/2cIg3kk \",\n",
    "    \"Ready to dive in to  #Aquathon Sat. Sept 17?  You've raised over $50k toward our $85K goal! http://buff.ly/2d0nEN8 \",\n",
    "    \"#Aquathon, competition for #iPad is heating up!  You've raised 50+% of $85K goal!  http://buff.ly/2cnle5O \",\n",
    "    \"Would your child benefit from a social skills group? Spots available in our 3-5 and 5-8 year old groups.\",\n",
    "    \"9/15: early registration price ends: #AuthorsLuncheon! Meet #MarkKurlansky, #FrancineProse,#DanSantat, #MariaSemple http://buff.ly/2cIg3kk \",\n",
    "    \"4 more days until #Aquathon! Great job everyone! You've raised 50% of our $85k goal already!  Go for the iPad! http://buff.ly/2cGlSxd \",\n",
    "    \"#PaloAlto Community Health Fair attendees enjoyed Abilities United art activity & learned how our services can benefit them & the community.\",\n",
    "    \"#Aquathon is Sat. Sept 17!  20+ swim teams compete & already raised $35K toward $85K goal! Go for the gold teams!  http://buff.ly/2cTDGXY \",\n",
    "    \"Abilities United remembers and honors those individuals and who lost their lives on September 11, 2001.\",\n",
    "    \"Visit Abilities United table at Palo Alto Community Health Fair Sat. Sept. 10, 10 am - 2 pm, Mitchell Park.  http://buff.ly/2cwjoBC \",\n",
    "    \"Abilities United will benefit from #PaloAltoPlayers #Disney's 'The LIttle Mermaid'!  Use code MERMAIDAU for $10 off  http://buff.ly/2c1SrJ7 \",\n",
    "    \"Thanks to #Aquathon sponsors, $5k Silver #DematteiConstruction & Laurie T. Jarrett; $2,500 Bronze #KaiserPermanente http://buff.ly/2bYpPhe \",\n",
    "    \"A good time was had by all who attended the inaugural Stanford Football “Special Needs Family Appreciation Night”\",\n",
    "    \"You've reached 33% of our $85K #Aquathon goal for people with #developmentaldisabilities! http://buff.ly/2c7gAw8 \",\n",
    "    \"Volunteers & participants hard at work painting center pieces for Authors Luncheon. Win one  Oct. 29! Buy tix now! http://buff.ly/2bG5aky \",\n",
    "    \"Thank you #Aquathon lane sponsors; Captain Kirk’s San Francisco Sailing #MarketRiders, #Sims Metal Management http://buff.ly/2bWkVmL \",\n",
    "    \"Special thanks to #MagicDanceArts for volunteering at the Abilities United Summerfest! Everyone had a great time! http://buff.ly/2bS0hEn \",\n",
    "    \"You're invited to Abilities United #AuthorsLuncheon! See #MarkKurlansky, #FrancineProse,  #DanSantat, #MariaSemple http://buff.ly/2byZpSW \",\n",
    "    \"Well written blog about Abilities United by #SerenoGroup Palo Alto realtor #HadarGuibara.   #1%forGood Thank you! Learn more about the inspiring organization @AbilitiesUnited in my latest blog post, and join us in supporting them!\",\n",
    "    \"#Aquathon, only 3 weeks away! Read honorary swimmer Maritza's story, to see the difference you make in her life. http://buff.ly/2bMdOsA \",\n",
    "    \"Thank you to #nationalcharityleague Palo Alto Stanford Hills mothers/daughters for making amazing progress painting!\",\n",
    "    \"Mothers & daughters from #nationalcharityleague Stanford Hills Chapter hard at work ... Great group effort!\",\n",
    "    \"#nationalcharityleague daughters & mothers ready for fun, productive day of painting! Thanks for your time, talent!\",\n",
    "    \"Thanks Abilities United #Aquathon (Sept. 17) sponsors, form your swim teams now; raise $ for people w/ #disabilities http://buff.ly/2ceKuQG \",\n",
    "    \"Outdoors enthusiast embarks on 10-day journey, 300 mile journey in his wheelchair to advocate for accessible trails.\",\n",
    "    \"#MariaSemple, an author at #AuthorsLuncheon, Oct. 29,  #3 on 'Incredible New Books...' list! http://buff.ly/2bJ45GH  http://buff.ly/2bJ4bhB\"\n",
    "    \"Surprises always arrive at #AbilitiesUnited. Little birdie came for a visit, cooperated as it was escorted outside.\",\n",
    "    \"10 Things for your child to know before going back to school http://buff.ly/2beHbTZ \",\n",
    "    \"Parents make their 13-month-old a home-made wheelchair. Watch her get around! Paralyzed Edmonton toddler a whiz in homemade wheelchair\",\n",
    "    \"most of us will move in & out of disability in our lifetimes through illness, injury or process of aging.\",\n",
    "    \"Abilities United raised $2+ million FY15/16 for services for people w/developmental disabilities. Thanks to donors!\",\n",
    "    \"Participants & co-workers celebrate Rachelle's 14+ years Abilities United and wish her well! http://buff.ly/2bDRAuC \",\n",
    "    \"Preschoolers sing: I'm a little fish..When I swim past my friends, I hear them say. Stop your swimming, come & play! http://buff.ly/2brP9Ob \",\n",
    "    \"Looking for a fun activity for your kids? Visit #ChildrensDiscoveryMusuem #SanJose, enjoy 'People' art exhibit\",\n",
    "    \"Join 15 swim teams already registered for Abilities United Aquathon!  You'll have a fun, energetic day & do good! http://buff.ly/2bnYmTl \",\n",
    " \"#ThankfulThursday shout out to #KaiserPermanente, our $2,500 Bronze Sponsor of the  Abilities United Aquathon 2016!  http://buff.ly/2bMbtCT \",\n",
    "    \"'Forget the gold medal: Why these runners are true Olympic champions' http://buff.ly/2blnZ7p   Spirit of #Aquathon! http://buff.ly/2blohv3 \",\n",
    "    \"Making flower pots for 25th anniversary Authors Luncheon. Buy your ticket today; win one of these centerpieces! http://buff.ly/2boMaoR \",\n",
    "    \"'Teaching CA students about the struggles & victories of people with disabilities'? Hear audio on #KALW radio\",\n",
    "    \"Checked out out new Cover photo! #AbilitiesUnited #Support #CheckitOut\",\n",
    "    \"Thank you to everyone at the #SerenoGroup for selecting Abilities United as the beneficiary of 1% for Good program!\",\n",
    "    \"We're proud & thankful #DeMattei Construction, Inc http://buff.ly/2aXJHh3   returns as a 'silver' sponsor at #AbilitiesUnited #Aquathon!\",\n",
    "    \"Join Abilities United #Aquathon,  practice your crawl, breaststroke, butterfly, backstroke http://buff.ly/2b95o0k \",\n",
    "    \"Artists Ian Douglas teaching an art session at the Children's Discovery Museum San Jose today, Aug. 14 11 am - 4 pm.\",\n",
    "    \"185 children (3 to 14 years old) learned  to swim at Abilities United Water Safety program  #HooverPool #RedwoodCity\",\n",
    "    \"Abilities United #AuthorsLuncheon!  Authors #Mark Kurlansky, #FrancineProse, #DanSantat, #MariaSemple! Buy tix today http://buff.ly/2bnCCYu \",\n",
    "    \"Moving for Me motor development group for children who are not yet walking. $125 for 5 week series! Starts 8/31!\",\n",
    "    \"Buying or selling a house? Benefit Abilities United; use #SerenoGroup of #PaloAlto realtors! http://buff.ly/2aOMoHy \",\n",
    "    \"Abilities United  fiscal year ended June 30.  Read a summary of our service, fundraising and volunteer results.\",\n",
    "    \"Join Abilities United for BBQ, face painting, crafts fair, Wed, Aug 10, 10am - 4pm! 3864 Middlefield Rd in Palo Alto\",\n",
    "    \"Abilities United exhibit 'People' which showcases original works of #art by participants of our art program at #CDM.\",\n",
    "    \"Productive day today; three volunteers working on social media, database, & volunteers waiting to be interviewed! http://buff.ly/2b0V6O5 \",\n",
    "    \"#WildBoy at the #DragonTheatre in #RedwoodCity is about a family trying to keep their son with #autism at home.\",\n",
    "    \"Can't get to #Rio for #Olympics2016 swim race? You CAN make it to the Aquathon, Hoover Pool, Redwood City, Sept. 17. http://tinyurl.com/jg3z56w \",\n",
    "    \"We're honored the #SerenoGroup of #PaloAlto  selected Abilities United to be the recipients of their '1% for Good'!\",\n",
    "    \"Thank you to the San Mateo couple who donated our new bike rack!  This keeps sidewalks clear & accessible!\",\n",
    "    \"How does your company do when considering these 6 Benchmarks of On-the-job Inclusion of people with disabilities?\",\n",
    "    \"Thank you President Obama & Hillary Clinton for including people with disabilities in your DNC speeches!   Inclusion for all abilities!\",\n",
    "    \"Check out our new responsive, modern, easy to use NEW website! http://www.abilitiesunited.org/   Tell us what you think!\",\n",
    "    \"Hillsborough, CA students made this page about their volunteer day at Abilities United to encourage volunteering! http://www.sharethejoy.org/abilities-united …\",\n",
    "    \"18 new emojis depict a range of abilities; people in wheelchairs, guide dogs, a variety of activities\",\n",
    "    \"Abilities United flag remains at half staff for police killed in Dallas & now Baton Rouge.  We're united with all!\",\n",
    "    \"New movie,'Life, Animated'? Owen Suskind, who has autism, figure out how to navigate the world using Disney cartoons\",\n",
    "    \"Abilities United in JCC story: Moon River & Me: Therapeutic Attributes of Water  http://www.livefullyblog.org/health-and-fitness/moon-river-and-me-the-therapeutic-attributes-of-water/ …\",\n",
    "    \"We join the world in mourning the loss of innocent citizens of the world.  Abilities United stands with France.\",\n",
    "    \"Once again Abilities United stands united with all USA citizens as well  as Dallas, TX to mourn our shared loss. RIP\",\n",
    "    \"Thanks to our board member, we attended the Women of Color conference on #Yahoo campus. http://www.abilitiesunited.org/What-we-do \",\n",
    "    \"All of us at Abilities United wish everyone a very happy and festive Independence Day!  Original painting by John!\"\n",
    "    \n",
    "]\n"
   ]
  },
  {
   "cell_type": "code",
   "execution_count": 119,
   "metadata": {
    "collapsed": false
   },
   "outputs": [
    {
     "name": "stdout",
     "output_type": "stream",
     "text": [
      "disgusting\n",
      "(compound: -0.5267)\n",
      "(neg: 1.0)\n",
      "(neu: 0.0)\n",
      "(pos: 0.0)\n",
      "Abilities United thanks its all their help and support . \n",
      "(compound: 0.9022)\n",
      "(neg: 0.0)\n",
      "(neu: 0.234)\n",
      "(pos: 0.766)\n",
      "Abilities\n",
      "(compound: 0.25)\n",
      "(neg: 0.0)\n",
      "(neu: 0.0)\n",
      "(pos: 1.0)\n",
      "United\n",
      "(compound: 0.4215)\n",
      "(neg: 0.0)\n",
      "(neu: 0.0)\n",
      "(pos: 1.0)\n",
      "thanks\n",
      "(compound: 0.4404)\n",
      "(neg: 0.0)\n",
      "(neu: 0.0)\n",
      "(pos: 1.0)\n",
      "its\n",
      "(compound: 0.0)\n",
      "(neg: 0.0)\n",
      "(neu: 1.0)\n",
      "(pos: 0.0)\n",
      "volunteers\n",
      "(compound: 0.0)\n",
      "(neg: 0.0)\n",
      "(neu: 1.0)\n",
      "(pos: 0.0)\n",
      "for\n",
      "(compound: 0.0)\n",
      "(neg: 0.0)\n",
      "(neu: 1.0)\n",
      "(pos: 0.0)\n",
      "all\n",
      "(compound: 0.0)\n",
      "(neg: 0.0)\n",
      "(neu: 1.0)\n",
      "(pos: 0.0)\n",
      "their\n",
      "(compound: 0.0)\n",
      "(neg: 0.0)\n",
      "(neu: 1.0)\n",
      "(pos: 0.0)\n",
      "help\n",
      "(compound: 0.4019)\n",
      "(neg: 0.0)\n",
      "(neu: 0.0)\n",
      "(pos: 1.0)\n",
      "and\n",
      "(compound: 0.0)\n",
      "(neg: 0.0)\n",
      "(neu: 1.0)\n",
      "(pos: 0.0)\n",
      "support\n",
      "(compound: 0.4019)\n",
      "(neg: 0.0)\n",
      "(neu: 0.0)\n",
      "(pos: 1.0)\n",
      "Abilities United's garden volunteer, Linda, is included in this anniversary story about Gamble Gardens in Palo Alto. http://buff.ly/2d26cTj \n",
      "(compound: 0.25)\n",
      "(neg: 0.0)\n",
      "(neu: 0.895)\n",
      "(pos: 0.105)\n",
      "Abilities United Aquathon results story is highlighted in this issue of #FamilyHopeFoundationDaily The latest Family Hope Foundation Daily! http://paper.li/family_hope/1359469412?edition_id=143195b0-8313-11e6-a3e8-0cc47a0d15fd … Thanks to @SpOlympicsMI @phpeducation @AbilitiesUnited\n",
      "(compound: 0.8718)\n",
      "(neg: 0.0)\n",
      "(neu: 0.658)\n",
      "(pos: 0.342)\n",
      "#PaloAltoPlayers The Little Mermaid benefits Abilities United.  View our 'Under the Sea' art exhibit in the lobby! http://buff.ly/2cGiPY7 \n",
      "(compound: 0.7391)\n",
      "(neg: 0.0)\n",
      "(neu: 0.629)\n",
      "(pos: 0.371)\n",
      "You still have through Sept. 30 to raise #Aquathon donations for services for children & adults with #disabilities!  http://buff.ly/2d8JEmf \n",
      "(compound: 0.0)\n",
      "(neg: 0.0)\n",
      "(neu: 1.0)\n",
      "(pos: 0.0)\n",
      "Check out fun photos of #Aquathon teams &  #SJSharkie! Find your team, your friends & family.  Make a donation too! http://buff.ly/2ddTItH \n",
      "(compound: 0.7896)\n",
      "(neg: 0.0)\n",
      "(neu: 0.696)\n",
      "(pos: 0.304)\n",
      "Did you attend Fiesta Educativa? “It’s important because there are many parents who don’t know what to do...”San Jose: Latino families with special needs kids find support at annual conference\n",
      "(compound: 0.8519)\n",
      "(neg: 0.0)\n",
      "(neu: 0.716)\n",
      "(pos: 0.284)\n",
      "A HUGE #ThankYou to @PurpleMusem for hosting Milestones Preschool last week! The children loved seeing some of thei…\n",
      "(compound: 0.8034)\n",
      "(neg: 0.0)\n",
      "(neu: 0.675)\n",
      "(pos: 0.325)\n",
      "Many THANKS to @PurpleMuseum for hosting our students last week! Milestones Preschool loved the People exhibit and spending time there!\n",
      "(compound: 0.8449)\n",
      "(neg: 0.0)\n",
      "(neu: 0.689)\n",
      "(pos: 0.311)\n",
      "Congrats to Team Priya's Rhymers, winner of the #Aquathon Spirit Award. Celebrate and help reach our $85,000 goal! http://buff.ly/2dtUh1D \n",
      "(compound: 0.9595)\n",
      "(neg: 0.0)\n",
      "(neu: 0.373)\n",
      "(pos: 0.627)\n",
      "Curious about #Aquathon results to date? Award winners, special guests, & $70+K in donations toward our $85K goal. http://buff.ly/2cWU216 \n",
      "(compound: 0.891)\n",
      "(neg: 0.0)\n",
      "(neu: 0.547)\n",
      "(pos: 0.453)\n",
      "Thank you #Aquathon swimmers, donors!  You're at $70K ! Reach $85K goal by 9/30 to benefit people with disabilities! http://buff.ly/2ddRrlq \n",
      "(compound: 0.7562)\n",
      "(neg: 0.0)\n",
      "(neu: 0.682)\n",
      "(pos: 0.318)\n",
      "Thanks to swimmers, cheerleaders, donors of the #Aquathon!  You've raised nearly $70K for services for people with #disabilities! #SJSharkie\n",
      "(compound: 0.6892)\n",
      "(neg: 0.0)\n",
      "(neu: 0.749)\n",
      "(pos: 0.251)\n",
      "Get your tixs for Abilities United #AuthorsLuncheon.  Meet 4 renowned authors & benefit people with disabilities! http://buff.ly/2d4ESs6 \n",
      "(compound: 0.7959)\n",
      "(neg: 0.0)\n",
      "(neu: 0.597)\n",
      "(pos: 0.403)\n",
      "Today was the opening of the exhibition 'Transformations: Creativity from the Inside Out' at the #WaltDisneyFamilyM…\n",
      "(compound: 0.3818)\n",
      "(neg: 0.0)\n",
      "(neu: 0.852)\n",
      "(pos: 0.148)\n",
      "#Aquathon fundraising thermometer is raising!   See you all 'in the swim' tomorrow! http://buff.ly/2cts5uG \n",
      "(compound: 0.0)\n",
      "(neg: 0.0)\n",
      "(neu: 1.0)\n",
      "(pos: 0.0)\n",
      "Aquathon swimmers/attendees!  Everything you need to know for Sat. Sept. 17 is the website! http://buff.ly/2cYnk1l \n",
      "(compound: 0.0)\n",
      "(neg: 0.0)\n",
      "(neu: 1.0)\n",
      "(pos: 0.0)\n",
      "9/15: early registration price ends: #AuthorsLuncheon! Meet #MarkKurlansky, #FrancineProse, #DanSantat, #MariaSemple http://buff.ly/2cIg3kk \n",
      "(compound: 0.0)\n",
      "(neg: 0.0)\n",
      "(neu: 1.0)\n",
      "(pos: 0.0)\n",
      "Ready to dive in to  #Aquathon Sat. Sept 17?  You've raised over $50k toward our $85K goal! http://buff.ly/2d0nEN8 \n",
      "(compound: 0.4199)\n",
      "(neg: 0.0)\n",
      "(neu: 0.859)\n",
      "(pos: 0.141)\n",
      "#Aquathon, competition for #iPad is heating up!  You've raised 50+% of $85K goal!  http://buff.ly/2cnle5O \n",
      "(compound: 0.0)\n",
      "(neg: 0.0)\n",
      "(neu: 1.0)\n",
      "(pos: 0.0)\n",
      "Would your child benefit from a social skills group? Spots available in our 3-5 and 5-8 year old groups.\n",
      "(compound: 0.4588)\n",
      "(neg: 0.0)\n",
      "(neu: 0.85)\n",
      "(pos: 0.15)\n",
      "9/15: early registration price ends: #AuthorsLuncheon! Meet #MarkKurlansky, #FrancineProse,#DanSantat, #MariaSemple http://buff.ly/2cIg3kk \n",
      "(compound: 0.0)\n",
      "(neg: 0.0)\n",
      "(neu: 1.0)\n",
      "(pos: 0.0)\n",
      "4 more days until #Aquathon! Great job everyone! You've raised 50% of our $85k goal already!  Go for the iPad! http://buff.ly/2cGlSxd \n",
      "(compound: 0.7405)\n",
      "(neg: 0.0)\n",
      "(neu: 0.783)\n",
      "(pos: 0.217)\n",
      "#PaloAlto Community Health Fair attendees enjoyed Abilities United art activity & learned how our services can benefit them & the community.\n",
      "(compound: 0.9081)\n",
      "(neg: 0.0)\n",
      "(neu: 0.511)\n",
      "(pos: 0.489)\n",
      "#Aquathon is Sat. Sept 17!  20+ swim teams compete & already raised $35K toward $85K goal! Go for the gold teams!  http://buff.ly/2cTDGXY \n",
      "(compound: 0.0)\n",
      "(neg: 0.0)\n",
      "(neu: 1.0)\n",
      "(pos: 0.0)\n",
      "Abilities United remembers and honors those individuals and who lost their lives on September 11, 2001.\n",
      "(compound: 0.7003)\n",
      "(neg: 0.103)\n",
      "(neu: 0.536)\n",
      "(pos: 0.362)\n",
      "Visit Abilities United table at Palo Alto Community Health Fair Sat. Sept. 10, 10 am - 2 pm, Mitchell Park.  http://buff.ly/2cwjoBC \n",
      "(compound: 0.7269)\n",
      "(neg: 0.0)\n",
      "(neu: 0.693)\n",
      "(pos: 0.307)\n",
      "Abilities United will benefit from #PaloAltoPlayers #Disney's 'The LIttle Mermaid'!  Use code MERMAIDAU for $10 off  http://buff.ly/2c1SrJ7 \n",
      "(compound: 0.7959)\n",
      "(neg: 0.0)\n",
      "(neu: 0.634)\n",
      "(pos: 0.366)\n",
      "Thanks to #Aquathon sponsors, $5k Silver #DematteiConstruction & Laurie T. Jarrett; $2,500 Bronze #KaiserPermanente http://buff.ly/2bYpPhe \n",
      "(compound: 0.4404)\n",
      "(neg: 0.0)\n",
      "(neu: 0.818)\n",
      "(pos: 0.182)\n",
      "A good time was had by all who attended the inaugural Stanford Football “Special Needs Family Appreciation Night”\n",
      "(compound: 0.7351)\n",
      "(neg: 0.0)\n",
      "(neu: 0.708)\n",
      "(pos: 0.292)\n",
      "You've reached 33% of our $85K #Aquathon goal for people with #developmentaldisabilities! http://buff.ly/2c7gAw8 \n",
      "(compound: 0.1759)\n",
      "(neg: 0.0)\n",
      "(neu: 0.876)\n",
      "(pos: 0.124)\n",
      "Volunteers & participants hard at work painting center pieces for Authors Luncheon. Win one  Oct. 29! Buy tix now! http://buff.ly/2bG5aky \n",
      "(compound: 0.6103)\n",
      "(neg: 0.061)\n",
      "(neu: 0.746)\n",
      "(pos: 0.192)\n",
      "Thank you #Aquathon lane sponsors; Captain Kirk’s San Francisco Sailing #MarketRiders, #Sims Metal Management http://buff.ly/2bWkVmL \n",
      "(compound: 0.3612)\n",
      "(neg: 0.0)\n",
      "(neu: 0.848)\n",
      "(pos: 0.152)\n",
      "Special thanks to #MagicDanceArts for volunteering at the Abilities United Summerfest! Everyone had a great time! http://buff.ly/2bS0hEn \n",
      "(compound: 0.9335)\n",
      "(neg: 0.0)\n",
      "(neu: 0.422)\n",
      "(pos: 0.578)\n",
      "You're invited to Abilities United #AuthorsLuncheon! See #MarkKurlansky, #FrancineProse,  #DanSantat, #MariaSemple http://buff.ly/2byZpSW \n",
      "(compound: 0.6239)\n",
      "(neg: 0.0)\n",
      "(neu: 0.663)\n",
      "(pos: 0.337)\n",
      "Well written blog about Abilities United by #SerenoGroup Palo Alto realtor #HadarGuibara.   #1%forGood Thank you! Learn more about the inspiring organization @AbilitiesUnited in my latest blog post, and join us in supporting them!\n",
      "(compound: 0.9446)\n",
      "(neg: 0.0)\n",
      "(neu: 0.589)\n",
      "(pos: 0.411)\n",
      "#Aquathon, only 3 weeks away! Read honorary swimmer Maritza's story, to see the difference you make in her life. http://buff.ly/2bMdOsA \n",
      "(compound: 0.4003)\n",
      "(neg: 0.0)\n",
      "(neu: 0.87)\n",
      "(pos: 0.13)\n",
      "Thank you to #nationalcharityleague Palo Alto Stanford Hills mothers/daughters for making amazing progress painting!\n",
      "(compound: 0.8553)\n",
      "(neg: 0.0)\n",
      "(neu: 0.539)\n",
      "(pos: 0.461)\n",
      "Mothers & daughters from #nationalcharityleague Stanford Hills Chapter hard at work ... Great group effort!\n",
      "(compound: 0.6114)\n",
      "(neg: 0.079)\n",
      "(neu: 0.674)\n",
      "(pos: 0.247)\n",
      "#nationalcharityleague daughters & mothers ready for fun, productive day of painting! Thanks for your time, talent!\n",
      "(compound: 0.9018)\n",
      "(neg: 0.0)\n",
      "(neu: 0.477)\n",
      "(pos: 0.523)\n",
      "Thanks Abilities United #Aquathon (Sept. 17) sponsors, form your swim teams now; raise $ for people w/ #disabilities http://buff.ly/2ceKuQG \n",
      "(compound: 0.7717)\n",
      "(neg: 0.0)\n",
      "(neu: 0.661)\n",
      "(pos: 0.339)\n",
      "Outdoors enthusiast embarks on 10-day journey, 300 mile journey in his wheelchair to advocate for accessible trails.\n",
      "(compound: 0.3612)\n",
      "(neg: 0.0)\n",
      "(neu: 0.865)\n",
      "(pos: 0.135)\n",
      "#MariaSemple, an author at #AuthorsLuncheon, Oct. 29,  #3 on 'Incredible New Books...' list! http://buff.ly/2bJ45GH  http://buff.ly/2bJ4bhBSurprises always arrive at #AbilitiesUnited. Little birdie came for a visit, cooperated as it was escorted outside.\n",
      "(compound: 0.0)\n",
      "(neg: 0.0)\n",
      "(neu: 1.0)\n",
      "(pos: 0.0)\n",
      "10 Things for your child to know before going back to school http://buff.ly/2beHbTZ \n",
      "(compound: 0.0)\n",
      "(neg: 0.0)\n",
      "(neu: 1.0)\n",
      "(pos: 0.0)\n",
      "Parents make their 13-month-old a home-made wheelchair. Watch her get around! Paralyzed Edmonton toddler a whiz in homemade wheelchair\n",
      "(compound: 0.0)\n",
      "(neg: 0.0)\n",
      "(neu: 1.0)\n",
      "(pos: 0.0)\n",
      "most of us will move in & out of disability in our lifetimes through illness, injury or process of aging.\n",
      "(compound: -0.6705)\n",
      "(neg: 0.244)\n",
      "(neu: 0.756)\n",
      "(pos: 0.0)\n",
      "Abilities United raised $2+ million FY15/16 for services for people w/developmental disabilities. Thanks to donors!\n",
      "(compound: 0.7901)\n",
      "(neg: 0.0)\n",
      "(neu: 0.6)\n",
      "(pos: 0.4)\n",
      "Participants & co-workers celebrate Rachelle's 14+ years Abilities United and wish her well! http://buff.ly/2bDRAuC \n",
      "(compound: 0.9117)\n",
      "(neg: 0.0)\n",
      "(neu: 0.371)\n",
      "(pos: 0.629)\n",
      "Preschoolers sing: I'm a little fish..When I swim past my friends, I hear them say. Stop your swimming, come & play! http://buff.ly/2brP9Ob \n",
      "(compound: 0.5562)\n",
      "(neg: 0.096)\n",
      "(neu: 0.652)\n",
      "(pos: 0.252)\n",
      "Looking for a fun activity for your kids? Visit #ChildrensDiscoveryMusuem #SanJose, enjoy 'People' art exhibit\n",
      "(compound: 0.7579)\n",
      "(neg: 0.0)\n",
      "(neu: 0.649)\n",
      "(pos: 0.351)\n",
      "Join 15 swim teams already registered for Abilities United Aquathon!  You'll have a fun, energetic day & do good! http://buff.ly/2bnYmTl \n",
      "(compound: 0.9401)\n",
      "(neg: 0.0)\n",
      "(neu: 0.418)\n",
      "(pos: 0.582)\n",
      "#ThankfulThursday shout out to #KaiserPermanente, our $2,500 Bronze Sponsor of the  Abilities United Aquathon 2016!  http://buff.ly/2bMbtCT \n",
      "(compound: 0.6239)\n",
      "(neg: 0.0)\n",
      "(neu: 0.733)\n",
      "(pos: 0.267)\n",
      "'Forget the gold medal: Why these runners are true Olympic champions' http://buff.ly/2blnZ7p   Spirit of #Aquathon! http://buff.ly/2blohv3 \n",
      "(compound: 0.8553)\n",
      "(neg: 0.079)\n",
      "(neu: 0.455)\n",
      "(pos: 0.467)\n",
      "Making flower pots for 25th anniversary Authors Luncheon. Buy your ticket today; win one of these centerpieces! http://buff.ly/2boMaoR \n",
      "(compound: 0.6239)\n",
      "(neg: 0.0)\n",
      "(neu: 0.806)\n",
      "(pos: 0.194)\n",
      "'Teaching CA students about the struggles & victories of people with disabilities'? Hear audio on #KALW radio\n",
      "(compound: -0.3612)\n",
      "(neg: 0.143)\n",
      "(neu: 0.857)\n",
      "(pos: 0.0)\n",
      "Checked out out new Cover photo! #AbilitiesUnited #Support #CheckitOut\n",
      "(compound: 0.0)\n",
      "(neg: 0.0)\n",
      "(neu: 1.0)\n",
      "(pos: 0.0)\n",
      "Thank you to everyone at the #SerenoGroup for selecting Abilities United as the beneficiary of 1% for Good program!\n",
      "(compound: 0.9117)\n",
      "(neg: 0.0)\n",
      "(neu: 0.507)\n",
      "(pos: 0.493)\n",
      "We're proud & thankful #DeMattei Construction, Inc http://buff.ly/2aXJHh3   returns as a 'silver' sponsor at #AbilitiesUnited #Aquathon!\n",
      "(compound: 0.7959)\n",
      "(neg: 0.0)\n",
      "(neu: 0.629)\n",
      "(pos: 0.371)\n",
      "Join Abilities United #Aquathon,  practice your crawl, breaststroke, butterfly, backstroke http://buff.ly/2b95o0k \n",
      "(compound: 0.7184)\n",
      "(neg: 0.0)\n",
      "(neu: 0.533)\n",
      "(pos: 0.467)\n",
      "Artists Ian Douglas teaching an art session at the Children's Discovery Museum San Jose today, Aug. 14 11 am - 4 pm.\n",
      "(compound: 0.0)\n",
      "(neg: 0.0)\n",
      "(neu: 1.0)\n",
      "(pos: 0.0)\n",
      "185 children (3 to 14 years old) learned  to swim at Abilities United Water Safety program  #HooverPool #RedwoodCity\n",
      "(compound: 0.765)\n",
      "(neg: 0.0)\n",
      "(neu: 0.664)\n",
      "(pos: 0.336)\n",
      "Abilities United #AuthorsLuncheon!  Authors #Mark Kurlansky, #FrancineProse, #DanSantat, #MariaSemple! Buy tix today http://buff.ly/2bnCCYu \n",
      "(compound: 0.658)\n",
      "(neg: 0.0)\n",
      "(neu: 0.671)\n",
      "(pos: 0.329)\n",
      "Moving for Me motor development group for children who are not yet walking. $125 for 5 week series! Starts 8/31!\n",
      "(compound: 0.0)\n",
      "(neg: 0.0)\n",
      "(neu: 1.0)\n",
      "(pos: 0.0)\n",
      "Buying or selling a house? Benefit Abilities United; use #SerenoGroup of #PaloAlto realtors! http://buff.ly/2aOMoHy \n",
      "(compound: 0.7959)\n",
      "(neg: 0.0)\n",
      "(neu: 0.553)\n",
      "(pos: 0.447)\n",
      "Abilities United  fiscal year ended June 30.  Read a summary of our service, fundraising and volunteer results.\n",
      "(compound: 0.5859)\n",
      "(neg: 0.0)\n",
      "(neu: 0.745)\n",
      "(pos: 0.255)\n",
      "Join Abilities United for BBQ, face painting, crafts fair, Wed, Aug 10, 10am - 4pm! 3864 Middlefield Rd in Palo Alto\n",
      "(compound: 0.8221)\n",
      "(neg: 0.0)\n",
      "(neu: 0.625)\n",
      "(pos: 0.375)\n",
      "Abilities United exhibit 'People' which showcases original works of #art by participants of our art program at #CDM.\n",
      "(compound: 0.7269)\n",
      "(neg: 0.0)\n",
      "(neu: 0.679)\n",
      "(pos: 0.321)\n",
      "Productive day today; three volunteers working on social media, database, & volunteers waiting to be interviewed! http://buff.ly/2b0V6O5 \n",
      "(compound: 0.0)\n",
      "(neg: 0.0)\n",
      "(neu: 1.0)\n",
      "(pos: 0.0)\n",
      "#WildBoy at the #DragonTheatre in #RedwoodCity is about a family trying to keep their son with #autism at home.\n",
      "(compound: 0.0)\n",
      "(neg: 0.0)\n",
      "(neu: 1.0)\n",
      "(pos: 0.0)\n",
      "Can't get to #Rio for #Olympics2016 swim race? You CAN make it to the Aquathon, Hoover Pool, Redwood City, Sept. 17. http://tinyurl.com/jg3z56w \n",
      "(compound: 0.0)\n",
      "(neg: 0.0)\n",
      "(neu: 1.0)\n",
      "(pos: 0.0)\n",
      "We're honored the #SerenoGroup of #PaloAlto  selected Abilities United to be the recipients of their '1% for Good'!\n",
      "(compound: 0.8356)\n",
      "(neg: 0.0)\n",
      "(neu: 0.628)\n",
      "(pos: 0.372)\n",
      "Thank you to the San Mateo couple who donated our new bike rack!  This keeps sidewalks clear & accessible!\n",
      "(compound: 0.6892)\n",
      "(neg: 0.0)\n",
      "(neu: 0.738)\n",
      "(pos: 0.262)\n",
      "How does your company do when considering these 6 Benchmarks of On-the-job Inclusion of people with disabilities?\n",
      "(compound: 0.0)\n",
      "(neg: 0.0)\n",
      "(neu: 1.0)\n",
      "(pos: 0.0)\n",
      "Thank you President Obama & Hillary Clinton for including people with disabilities in your DNC speeches!   Inclusion for all abilities!\n",
      "(compound: 0.6229)\n",
      "(neg: 0.0)\n",
      "(neu: 0.77)\n",
      "(pos: 0.23)\n",
      "Check out our new responsive, modern, easy to use NEW website! http://www.abilitiesunited.org/   Tell us what you think!\n",
      "(compound: 0.717)\n",
      "(neg: 0.0)\n",
      "(neu: 0.715)\n",
      "(pos: 0.285)\n",
      "Hillsborough, CA students made this page about their volunteer day at Abilities United to encourage volunteering! http://www.sharethejoy.org/abilities-united …\n",
      "(compound: 0.8122)\n",
      "(neg: 0.0)\n",
      "(neu: 0.641)\n",
      "(pos: 0.359)\n",
      "18 new emojis depict a range of abilities; people in wheelchairs, guide dogs, a variety of activities\n",
      "(compound: 0.25)\n",
      "(neg: 0.0)\n",
      "(neu: 0.875)\n",
      "(pos: 0.125)\n",
      "Abilities United flag remains at half staff for police killed in Dallas & now Baton Rouge.  We're united with all!\n",
      "(compound: 0.3382)\n",
      "(neg: 0.164)\n",
      "(neu: 0.548)\n",
      "(pos: 0.288)\n",
      "New movie,'Life, Animated'? Owen Suskind, who has autism, figure out how to navigate the world using Disney cartoons\n",
      "(compound: 0.0)\n",
      "(neg: 0.0)\n",
      "(neu: 1.0)\n",
      "(pos: 0.0)\n",
      "Abilities United in JCC story: Moon River & Me: Therapeutic Attributes of Water  http://www.livefullyblog.org/health-and-fitness/moon-river-and-me-the-therapeutic-attributes-of-water/ …\n",
      "(compound: 0.5859)\n",
      "(neg: 0.0)\n",
      "(neu: 0.714)\n",
      "(pos: 0.286)\n",
      "We join the world in mourning the loss of innocent citizens of the world.  Abilities United stands with France.\n",
      "(compound: 0.4939)\n",
      "(neg: 0.188)\n",
      "(neu: 0.471)\n",
      "(pos: 0.341)\n",
      "Once again Abilities United stands united with all USA citizens as well  as Dallas, TX to mourn our shared loss. RIP\n",
      "(compound: 0.8494)\n",
      "(neg: 0.153)\n",
      "(neu: 0.389)\n",
      "(pos: 0.459)\n",
      "Thanks to our board member, we attended the Women of Color conference on #Yahoo campus. http://www.abilitiesunited.org/What-we-do \n",
      "(compound: 0.4404)\n",
      "(neg: 0.0)\n",
      "(neu: 0.838)\n",
      "(pos: 0.162)\n",
      "All of us at Abilities United wish everyone a very happy and festive Independence Day!  Original painting by John!\n",
      "(compound: 0.9489)\n",
      "(neg: 0.0)\n",
      "(neu: 0.405)\n",
      "(pos: 0.595)\n"
     ]
    }
   ],
   "source": [
    "sentences.extend(tricky_sentences) #Extending our sentences list to add a few more\n",
    "sid = SentimentIntensityAnalyzer() #From the Vader Library, we will perform both sentiment and intensity analysis\n",
    "for sentence in sentences:\n",
    "    print(sentence)\n",
    "    ss = sid.polarity_scores(sentence) #For checking the polarity of the tweet in terms of how compound/non-compound it is\n",
    "    for k in sorted(ss):\n",
    "        print '({0}: {1})'.format(k, ss[k])         "
   ]
  },
  {
   "cell_type": "markdown",
   "metadata": {
    "collapsed": true
   },
   "source": [
    "# This is your final output."
   ]
  },
  {
   "cell_type": "markdown",
   "metadata": {},
   "source": [
    "# References"
   ]
  },
  {
   "cell_type": "markdown",
   "metadata": {},
   "source": [
    "http://www.nltk.org/api/nltk.sentiment.html\n",
    "\n",
    "http://www.nltk.org\n"
   ]
  }
 ],
 "metadata": {
  "kernelspec": {
   "display_name": "Python 2",
   "language": "python",
   "name": "python2"
  },
  "language_info": {
   "codemirror_mode": {
    "name": "ipython",
    "version": 2
   },
   "file_extension": ".py",
   "mimetype": "text/x-python",
   "name": "python",
   "nbconvert_exporter": "python",
   "pygments_lexer": "ipython2",
   "version": "2.7.11"
  }
 },
 "nbformat": 4,
 "nbformat_minor": 0
}
