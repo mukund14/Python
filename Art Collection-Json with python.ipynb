{
 "cells": [
  {
   "cell_type": "markdown",
   "metadata": {},
   "source": [
    "# Working on SF open dataset - Civic Art Collection "
   ]
  },
  {
   "cell_type": "code",
   "execution_count": 68,
   "metadata": {
    "collapsed": false
   },
   "outputs": [],
   "source": [
    "import ijson\n",
    "import pandas as pd\n",
    "import seaborn as sns\n",
    "%matplotlib inline\n",
    "# File name is rows.json . Working on Web data from https://data.sfgov.org/Culture-and-Recreation/SF-Civic-Art-Collection/zfw6-95su"
   ]
  },
  {
   "cell_type": "code",
   "execution_count": 69,
   "metadata": {
    "collapsed": false
   },
   "outputs": [
    {
     "name": "stdout",
     "output_type": "stream",
     "text": [
      "{u'name': u'sid', u'format': {}, u'dataTypeName': u'meta_data', u'fieldName': u':sid', u'renderTypeName': u'meta_data', u'position': 0, u'id': -1, u'flags': [u'hidden']}\n"
     ]
    },
    {
     "data": {
      "text/plain": [
       "[u'sid',\n",
       " u'id',\n",
       " u'position',\n",
       " u'created_at',\n",
       " u'created_meta',\n",
       " u'updated_at',\n",
       " u'updated_meta',\n",
       " u'meta',\n",
       " u'_id_',\n",
       " u'_rev',\n",
       " u'accession_id',\n",
       " u'artist',\n",
       " u'created_at',\n",
       " u'credit_line',\n",
       " u'display_dimensions',\n",
       " u'geometry',\n",
       " u'location_description',\n",
       " u'medium',\n",
       " u'source',\n",
       " u'title',\n",
       " u'Location 1']"
      ]
     },
     "execution_count": 69,
     "metadata": {},
     "output_type": "execute_result"
    }
   ],
   "source": [
    "file_name=\"rows.json\"\n",
    "\n",
    "# opening the file as json file and separating the objects and listing the columns\n",
    "with open(file_name,'r') as json_file:\n",
    "    objects=ijson.items(json_file, 'meta.view.columns.item')\n",
    "    columns=list(objects)\n",
    "    \n",
    "print columns[0]\n",
    "# using names in columns\n",
    "column_names=[col[\"name\"] for col in columns]\n",
    "column_names\n",
    "#this gives a lot of garbage values in columns, so we will create a list of good columns"
   ]
  },
  {
   "cell_type": "code",
   "execution_count": 99,
   "metadata": {
    "collapsed": false
   },
   "outputs": [],
   "source": [
    "good_columns=['_id_','_rev','artist','created_at','credit_line',\n",
    "             'display_dimensions','geometry','location_description','medium','source','title','Location 1']\n",
    "# not every data is relevant, so just making sure the relevant columns are taken\n",
    "\n",
    "# creating a list which will give a list of data\n",
    "data=[]\n",
    "with open(file_name,'r') as json_file:\n",
    "    objects=ijson.items(json_file,'data.item')\n",
    "    for row in objects:\n",
    "        selected_row=[]\n",
    "        for item in good_columns:\n",
    "            selected_row.append(row[column_names.index(item)])\n",
    "        data.append(selected_row)    #added every row to the data list"
   ]
  },
  {
   "cell_type": "code",
   "execution_count": 100,
   "metadata": {
    "collapsed": false
   },
   "outputs": [
    {
     "data": {
      "text/plain": [
       "[u'_id',\n",
       " u'_rev',\n",
       " u'artist',\n",
       " 1320851809,\n",
       " u'credit_line',\n",
       " u'display_dimensions',\n",
       " u'geometry',\n",
       " u'location_description',\n",
       " u'medium',\n",
       " u'source',\n",
       " u'title',\n",
       " [None, None, None, None, None]]"
      ]
     },
     "execution_count": 100,
     "metadata": {},
     "output_type": "execute_result"
    }
   ],
   "source": [
    "data[0]\n",
    "# This will give dataset in a list format\n",
    "# we want to make it more readable hence we need to structure it by converting to a dataframe using pandas"
   ]
  },
  {
   "cell_type": "code",
   "execution_count": 101,
   "metadata": {
    "collapsed": false
   },
   "outputs": [],
   "source": [
    "#This is how we make it to a dataframe and we take only the columns that we need from the good_columns list we made previously\n",
    "artdata=pd.DataFrame(data,columns=good_columns)"
   ]
  },
  {
   "cell_type": "code",
   "execution_count": 104,
   "metadata": {
    "collapsed": false
   },
   "outputs": [
    {
     "ename": "TypeError",
     "evalue": "cannot convert the series to <type 'int'>",
     "output_type": "error",
     "traceback": [
      "\u001b[1;31m---------------------------------------------------------------------------\u001b[0m",
      "\u001b[1;31mTypeError\u001b[0m                                 Traceback (most recent call last)",
      "\u001b[1;32m<ipython-input-104-72641e8b3c2b>\u001b[0m in \u001b[0;36m<module>\u001b[1;34m()\u001b[0m\n\u001b[0;32m      7\u001b[0m \u001b[1;31m#def fun():\u001b[0m\u001b[1;33m\u001b[0m\u001b[1;33m\u001b[0m\u001b[0m\n\u001b[0;32m      8\u001b[0m \u001b[1;31m#    l=[]\u001b[0m\u001b[1;33m\u001b[0m\u001b[1;33m\u001b[0m\u001b[0m\n\u001b[1;32m----> 9\u001b[1;33m \u001b[0mx\u001b[0m\u001b[1;33m=\u001b[0m\u001b[0mlong\u001b[0m\u001b[1;33m(\u001b[0m\u001b[0martdata\u001b[0m\u001b[1;33m[\u001b[0m\u001b[1;34m\"location_description\"\u001b[0m\u001b[1;33m]\u001b[0m\u001b[1;33m)\u001b[0m\u001b[1;33m\u001b[0m\u001b[0m\n\u001b[0m\u001b[0;32m     10\u001b[0m \u001b[0msns\u001b[0m\u001b[1;33m.\u001b[0m\u001b[0mboxplot\u001b[0m\u001b[1;33m(\u001b[0m\u001b[0mx\u001b[0m\u001b[1;33m)\u001b[0m\u001b[1;33m\u001b[0m\u001b[0m\n",
      "\u001b[1;32mC:\\Users\\mukun\\Anaconda2\\envs\\gl-env\\lib\\site-packages\\pandas\\core\\series.pyc\u001b[0m in \u001b[0;36mwrapper\u001b[1;34m(self)\u001b[0m\n\u001b[0;32m     78\u001b[0m             \u001b[1;32mreturn\u001b[0m \u001b[0mconverter\u001b[0m\u001b[1;33m(\u001b[0m\u001b[0mself\u001b[0m\u001b[1;33m.\u001b[0m\u001b[0miloc\u001b[0m\u001b[1;33m[\u001b[0m\u001b[1;36m0\u001b[0m\u001b[1;33m]\u001b[0m\u001b[1;33m)\u001b[0m\u001b[1;33m\u001b[0m\u001b[0m\n\u001b[0;32m     79\u001b[0m         raise TypeError(\"cannot convert the series to \"\n\u001b[1;32m---> 80\u001b[1;33m                         \"{0}\".format(str(converter)))\n\u001b[0m\u001b[0;32m     81\u001b[0m \u001b[1;33m\u001b[0m\u001b[0m\n\u001b[0;32m     82\u001b[0m     \u001b[1;32mreturn\u001b[0m \u001b[0mwrapper\u001b[0m\u001b[1;33m\u001b[0m\u001b[0m\n",
      "\u001b[1;31mTypeError\u001b[0m: cannot convert the series to <type 'int'>"
     ]
    }
   ],
   "source": [
    "#We can check the count here with the below command\n",
    "artdata[\"location_description\"].value_counts()\n",
    "\n",
    "#Splitting the data to make better extraction possible\n",
    "#artdata['type']=artdata['geometry'].str.split(\":\")\n",
    "\n",
    "#def fun():\n",
    "#    l=[]\n",
    "x=long(artdata[\"location_description\"])\n",
    "sns.boxplot(x)"
   ]
  },
  {
   "cell_type": "code",
   "execution_count": 65,
   "metadata": {
    "collapsed": false
   },
   "outputs": [
    {
     "data": {
      "text/html": [
       "<div>\n",
       "<table border=\"1\" class=\"dataframe\">\n",
       "  <thead>\n",
       "    <tr style=\"text-align: right;\">\n",
       "      <th></th>\n",
       "      <th>_id_</th>\n",
       "      <th>_rev</th>\n",
       "      <th>artist</th>\n",
       "      <th>created_at</th>\n",
       "      <th>credit_line</th>\n",
       "      <th>display_dimensions</th>\n",
       "      <th>geometry</th>\n",
       "      <th>location_description</th>\n",
       "      <th>medium</th>\n",
       "      <th>source</th>\n",
       "      <th>title</th>\n",
       "      <th>Location 1</th>\n",
       "    </tr>\n",
       "  </thead>\n",
       "  <tbody>\n",
       "    <tr>\n",
       "      <th>0</th>\n",
       "      <td>_id</td>\n",
       "      <td>_rev</td>\n",
       "      <td>artist</td>\n",
       "      <td>1320851809</td>\n",
       "      <td>credit_line</td>\n",
       "      <td>display_dimensions</td>\n",
       "      <td>geometry</td>\n",
       "      <td>location_description</td>\n",
       "      <td>medium</td>\n",
       "      <td>source</td>\n",
       "      <td>title</td>\n",
       "      <td>[None, None, None, None, None]</td>\n",
       "    </tr>\n",
       "    <tr>\n",
       "      <th>1</th>\n",
       "      <td>63daabb62278559f8a0643be882613c5</td>\n",
       "      <td>2-2a0d31161230cdd59c47cbf4459ad806</td>\n",
       "      <td>Acconci, Saitowitz and Soloman</td>\n",
       "      <td>1320851809</td>\n",
       "      <td>Commissioned by the San Francisco Art Commissi...</td>\n",
       "      <td>2 1/2 miles X 5 feet</td>\n",
       "      <td>{\"type\":\"Point\",\"coordinates\":[-122.4120591,37...</td>\n",
       "      <td>Public Display : District 3 : Embarcadero/Wate...</td>\n",
       "      <td>Black concrete, with a strip of glass blocks, ...</td>\n",
       "      <td>San Francisco Arts Commission</td>\n",
       "      <td>Promenade Ribbon</td>\n",
       "      <td>[None, None, None, None, None]</td>\n",
       "    </tr>\n",
       "    <tr>\n",
       "      <th>2</th>\n",
       "      <td>63daabb62278559f8a0643be88261503</td>\n",
       "      <td>2-8418bc9b09e27aba350721c0de8b98ee</td>\n",
       "      <td>Acconci, Vito</td>\n",
       "      <td>1320851809</td>\n",
       "      <td>Purchased by the San Francisco Art Commission ...</td>\n",
       "      <td>26 1/2\" H X 41\" W</td>\n",
       "      <td>{\"type\":\"Point\",\"coordinates\":[-122.389979,37....</td>\n",
       "      <td>International Airport : T3 : Lower Level</td>\n",
       "      <td>Etching on Paper</td>\n",
       "      <td>San Francisco Arts Commission</td>\n",
       "      <td>Two Wings for Wall and Person</td>\n",
       "      <td>[None, None, None, None, None]</td>\n",
       "    </tr>\n",
       "    <tr>\n",
       "      <th>3</th>\n",
       "      <td>63daabb62278559f8a0643be88261cca</td>\n",
       "      <td>2-673d0a4a69a242adeb9852979da1e295</td>\n",
       "      <td>Acconci, Vito</td>\n",
       "      <td>1320851809</td>\n",
       "      <td>Commission for the San Francisco International...</td>\n",
       "      <td>None</td>\n",
       "      <td>{\"type\":\"Point\",\"coordinates\":[-122.389979,37....</td>\n",
       "      <td>Airport : International Terminal, transfer cor...</td>\n",
       "      <td>mixed medium</td>\n",
       "      <td>San Francisco Arts Commission</td>\n",
       "      <td>Light Beams for the Sky of Transfer Cooridor</td>\n",
       "      <td>[None, None, None, None, None]</td>\n",
       "    </tr>\n",
       "    <tr>\n",
       "      <th>4</th>\n",
       "      <td>63daabb62278559f8a0643be8826291a</td>\n",
       "      <td>2-7ffc3bec57f459d5e478899e0f129bf0</td>\n",
       "      <td>Adams, Gloria Cozzo</td>\n",
       "      <td>1320851809</td>\n",
       "      <td>Purchased by the San Francisco Art Commission ...</td>\n",
       "      <td>481/2</td>\n",
       "      <td>{\"type\":\"Point\",\"coordinates\":[-122.389979,37....</td>\n",
       "      <td>Airport : Business and Finance</td>\n",
       "      <td>Acrylic and ink on canvas</td>\n",
       "      <td>San Francisco Arts Commission</td>\n",
       "      <td>Cityscape #33</td>\n",
       "      <td>[None, None, None, None, None]</td>\n",
       "    </tr>\n",
       "  </tbody>\n",
       "</table>\n",
       "</div>"
      ],
      "text/plain": [
       "                               _id_                                _rev  \\\n",
       "0                               _id                                _rev   \n",
       "1  63daabb62278559f8a0643be882613c5  2-2a0d31161230cdd59c47cbf4459ad806   \n",
       "2  63daabb62278559f8a0643be88261503  2-8418bc9b09e27aba350721c0de8b98ee   \n",
       "3  63daabb62278559f8a0643be88261cca  2-673d0a4a69a242adeb9852979da1e295   \n",
       "4  63daabb62278559f8a0643be8826291a  2-7ffc3bec57f459d5e478899e0f129bf0   \n",
       "\n",
       "                           artist  created_at  \\\n",
       "0                          artist  1320851809   \n",
       "1  Acconci, Saitowitz and Soloman  1320851809   \n",
       "2                   Acconci, Vito  1320851809   \n",
       "3                   Acconci, Vito  1320851809   \n",
       "4             Adams, Gloria Cozzo  1320851809   \n",
       "\n",
       "                                         credit_line    display_dimensions  \\\n",
       "0                                        credit_line    display_dimensions   \n",
       "1  Commissioned by the San Francisco Art Commissi...  2 1/2 miles X 5 feet   \n",
       "2  Purchased by the San Francisco Art Commission ...     26 1/2\" H X 41\" W   \n",
       "3  Commission for the San Francisco International...                  None   \n",
       "4  Purchased by the San Francisco Art Commission ...                 481/2   \n",
       "\n",
       "                                            geometry  \\\n",
       "0                                           geometry   \n",
       "1  {\"type\":\"Point\",\"coordinates\":[-122.4120591,37...   \n",
       "2  {\"type\":\"Point\",\"coordinates\":[-122.389979,37....   \n",
       "3  {\"type\":\"Point\",\"coordinates\":[-122.389979,37....   \n",
       "4  {\"type\":\"Point\",\"coordinates\":[-122.389979,37....   \n",
       "\n",
       "                                location_description  \\\n",
       "0                               location_description   \n",
       "1  Public Display : District 3 : Embarcadero/Wate...   \n",
       "2           International Airport : T3 : Lower Level   \n",
       "3  Airport : International Terminal, transfer cor...   \n",
       "4                     Airport : Business and Finance   \n",
       "\n",
       "                                              medium  \\\n",
       "0                                             medium   \n",
       "1  Black concrete, with a strip of glass blocks, ...   \n",
       "2                                   Etching on Paper   \n",
       "3                                       mixed medium   \n",
       "4                          Acrylic and ink on canvas   \n",
       "\n",
       "                          source  \\\n",
       "0                         source   \n",
       "1  San Francisco Arts Commission   \n",
       "2  San Francisco Arts Commission   \n",
       "3  San Francisco Arts Commission   \n",
       "4  San Francisco Arts Commission   \n",
       "\n",
       "                                          title  \\\n",
       "0                                         title   \n",
       "1                              Promenade Ribbon   \n",
       "2                 Two Wings for Wall and Person   \n",
       "3  Light Beams for the Sky of Transfer Cooridor   \n",
       "4                                 Cityscape #33   \n",
       "\n",
       "                       Location 1  \n",
       "0  [None, None, None, None, None]  \n",
       "1  [None, None, None, None, None]  \n",
       "2  [None, None, None, None, None]  \n",
       "3  [None, None, None, None, None]  \n",
       "4  [None, None, None, None, None]  "
      ]
     },
     "execution_count": 65,
     "metadata": {},
     "output_type": "execute_result"
    }
   ],
   "source": [
    "Geometry=artdata.geometry\n",
    "geometry=Geometry.str.split(\":\")[2]\n",
    "artdata.head()"
   ]
  },
  {
   "cell_type": "code",
   "execution_count": null,
   "metadata": {
    "collapsed": false
   },
   "outputs": [],
   "source": []
  },
  {
   "cell_type": "code",
   "execution_count": null,
   "metadata": {
    "collapsed": true
   },
   "outputs": [],
   "source": []
  }
 ],
 "metadata": {
  "kernelspec": {
   "display_name": "Python 2",
   "language": "python",
   "name": "python2"
  },
  "language_info": {
   "codemirror_mode": {
    "name": "ipython",
    "version": 2
   },
   "file_extension": ".py",
   "mimetype": "text/x-python",
   "name": "python",
   "nbconvert_exporter": "python",
   "pygments_lexer": "ipython2",
   "version": "2.7.11"
  }
 },
 "nbformat": 4,
 "nbformat_minor": 0
}
