{
 "cells": [
  {
   "cell_type": "code",
   "execution_count": 16,
   "metadata": {
    "collapsed": false
   },
   "outputs": [],
   "source": [
    "\n",
    "import tweepy \n",
    "import csv"
   ]
  },
  {
   "cell_type": "code",
   "execution_count": 17,
   "metadata": {
    "collapsed": true
   },
   "outputs": [],
   "source": [
    "consumer_key = 'M8TMZfbnJGmRCO0KbUajMMK4G'\n",
    "consumer_secret = 'zHSWvvqQ5qkxXtEcudQ2LEWQP9DtAUS7FcLcgV7cnpYI1IHJkh'\n",
    "access_key = '2489860747-SSRBYOF3pnn2KgEx35XeCPM3PZbgPzX62lnaUMw'\n",
    "access_secret = '7hLeOJU5dBL1ZpANNHoOtYMlXOuCu0RbFeI22dlVK4XAl'\n",
    "\n"
   ]
  },
  {
   "cell_type": "code",
   "execution_count": 18,
   "metadata": {
    "collapsed": false
   },
   "outputs": [
    {
     "name": "stdout",
     "output_type": "stream",
     "text": [
      "getting tweets before 705817319855906815\n",
      "...400 tweets downloaded so far\n",
      "getting tweets before 598516370796511231\n",
      "...600 tweets downloaded so far\n",
      "getting tweets before 531902214219251712\n",
      "...799 tweets downloaded so far\n",
      "getting tweets before 488055394124972032\n",
      "...999 tweets downloaded so far\n",
      "getting tweets before 459715036156420095\n",
      "...1199 tweets downloaded so far\n",
      "getting tweets before 413008395902275583\n",
      "...1399 tweets downloaded so far\n",
      "getting tweets before 384837675594698751\n",
      "...1598 tweets downloaded so far\n",
      "getting tweets before 371304514550116353\n",
      "...1798 tweets downloaded so far\n",
      "getting tweets before 352840597998022656\n",
      "...1998 tweets downloaded so far\n",
      "getting tweets before 327659133094481921\n",
      "...2198 tweets downloaded so far\n",
      "getting tweets before 293750922222395391\n",
      "...2398 tweets downloaded so far\n",
      "getting tweets before 264389416322215935\n",
      "...2596 tweets downloaded so far\n",
      "getting tweets before 240862317384978431\n",
      "...2796 tweets downloaded so far\n",
      "getting tweets before 223802125195554815\n",
      "...2996 tweets downloaded so far\n",
      "getting tweets before 185487447893884927\n",
      "...3196 tweets downloaded so far\n",
      "getting tweets before 167314258793738239\n",
      "...3236 tweets downloaded so far\n",
      "getting tweets before 161628385473343488\n",
      "...3236 tweets downloaded so far\n"
     ]
    }
   ],
   "source": [
    "def get_all_tweets(screen_name):\n",
    "\t#Twitter only allows access to a users most recent 3240 tweets with this method\n",
    "\t\n",
    "\t#authorize twitter, initialize tweepy\n",
    "\tauth = tweepy.OAuthHandler(consumer_key, consumer_secret)\n",
    "\tauth.set_access_token(access_key, access_secret)\n",
    "\tapi = tweepy.API(auth)\n",
    "\t\n",
    "\t#initialize a list to hold all the tweepy Tweets\n",
    "\talltweets = []\t\n",
    "\t\n",
    "\t#make initial request for most recent tweets (200 is the maximum allowed count)\n",
    "\tnew_tweets = api.user_timeline(screen_name = '@AbilitiesUnited',count=200)\n",
    "\t\n",
    "\t#save most recent tweets\n",
    "\talltweets.extend(new_tweets)\n",
    "\t\n",
    "\t#save the id of the oldest tweet less one\n",
    "\toldest = alltweets[-1].id - 1\n",
    "\t\n",
    "\t#keep grabbing tweets until there are no tweets left to grab\n",
    "\twhile len(new_tweets) > 0:\n",
    "\t\tprint \"getting tweets before %s\" % (oldest)\n",
    "\t\t\n",
    "\t\t#all subsiquent requests use the max_id param to prevent duplicates\n",
    "\t\tnew_tweets = api.user_timeline(screen_name = screen_name,count=200,max_id=oldest)\n",
    "\t\t\n",
    "\t\t#save most recent tweets\n",
    "\t\talltweets.extend(new_tweets)\n",
    "\t\t\n",
    "\t\t#update the id of the oldest tweet less one\n",
    "\t\toldest = alltweets[-1].id - 1\n",
    "\t\t\n",
    "\t\tprint \"...%s tweets downloaded so far\" % (len(alltweets))\n",
    "\t\n",
    "\t#transform the tweepy tweets into a 2D array that will populate the csv\t\n",
    "\touttweets = [[tweet.id_str, tweet.created_at, tweet.text.encode(\"utf-8\")] for tweet in alltweets]\n",
    "\t\n",
    "\t#write the csv\t\n",
    "\twith open('%s_tweets.csv' % screen_name, 'wb') as f:\n",
    "\t\twriter = csv.writer(f)\n",
    "\t\twriter.writerow([\"id\",\"created_at\",\"text\"])\n",
    "\t\twriter.writerows(outtweets)\n",
    "\t\n",
    "\tpass\n",
    "\n",
    "\n",
    "if __name__ == '__main__':\n",
    "\t#pass in the username of the account you want to download\n",
    "\tget_all_tweets(\"@AbilitiesUnited\")"
   ]
  },
  {
   "cell_type": "code",
   "execution_count": null,
   "metadata": {
    "collapsed": true
   },
   "outputs": [],
   "source": []
  },
  {
   "cell_type": "code",
   "execution_count": null,
   "metadata": {
    "collapsed": true
   },
   "outputs": [],
   "source": []
  }
 ],
 "metadata": {
  "kernelspec": {
   "display_name": "Python 2",
   "language": "python",
   "name": "python2"
  },
  "language_info": {
   "codemirror_mode": {
    "name": "ipython",
    "version": 2
   },
   "file_extension": ".py",
   "mimetype": "text/x-python",
   "name": "python",
   "nbconvert_exporter": "python",
   "pygments_lexer": "ipython2",
   "version": "2.7.11"
  }
 },
 "nbformat": 4,
 "nbformat_minor": 0
}
